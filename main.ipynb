{
 "cells": [
  {
   "cell_type": "code",
   "execution_count": 1,
   "id": "9fc79792",
   "metadata": {},
   "outputs": [],
   "source": [
    "import numpy as np\n",
    "import os\n",
    "import time\n",
    "from datetime import datetime\n",
    "\n",
    "from src.data_preprocessing import load_data, create_binary_labels, preprocess_data\n",
    "from src.logistic_regression import LogisticRegression, KernelLogisticRegression\n",
    "from src.svm import SVM, KernelSVM\n",
    "from src.kernels import create_kernel_function\n",
    "from src.evaluation import (\n",
    "    calculate_metrics, \n",
    "    print_metrics,\n",
    "    plot_confusion_matrix,\n",
    "    plot_training_curves,\n",
    "    plot_all_metrics_comparison,\n",
    "    cross_validate,\n",
    "    analyze_misclassifications\n",
    ")\n",
    "\n",
    "if not os.path.exists('results'):\n",
    "    os.makedirs('results')"
   ]
  },
  {
   "cell_type": "markdown",
   "id": "9960b2ad",
   "metadata": {},
   "source": [
    "## Load and Preprocess Data"
   ]
  },
  {
   "cell_type": "code",
   "execution_count": 2,
   "id": "37868a0b",
   "metadata": {},
   "outputs": [
    {
     "name": "stdout",
     "output_type": "stream",
     "text": [
      "Loaded 1599 red wines and 4898 white wines\n",
      "Total dataset size: 6497 samples\n",
      "\n",
      "Dataset shape: (6497, 13)\n",
      "\n",
      "Binary label distribution:\n",
      "Bad wines (quality < 6): 2384 (36.7%)\n",
      "Good wines (quality >= 6): 4113 (63.3%)\n",
      "\n",
      "Train set size: 5199 samples\n",
      "Test set size: 1298 samples\n",
      "Train label distribution: Bad=1908, Good=3291\n",
      "Test label distribution: Bad=476, Good=822\n",
      "\n",
      "Features normalized (standardization: mean=0, std=1)\n",
      "Training set: (5199, 12)\n",
      "Test set: (1298, 12)\n"
     ]
    }
   ],
   "source": [
    "wines = load_data('data/winequality-red.csv', 'data/winequality-white.csv')\n",
    "\n",
    "# Converting to binary classification problem\n",
    "wines = create_binary_labels(wines, threshold=6)\n",
    "\n",
    "# Splitting and normalizing\n",
    "X_train, X_test, y_train, y_test, mean, std = preprocess_data(\n",
    "    wines, test_size=0.2, random_state=42, normalize=True\n",
    ")\n",
    "print(f\"Training set: {X_train.shape}\")\n",
    "print(f\"Test set: {X_test.shape}\")"
   ]
  }
 ],
 "metadata": {
  "kernelspec": {
   "display_name": ".venv",
   "language": "python",
   "name": "python3"
  },
  "language_info": {
   "codemirror_mode": {
    "name": "ipython",
    "version": 3
   },
   "file_extension": ".py",
   "mimetype": "text/x-python",
   "name": "python",
   "nbconvert_exporter": "python",
   "pygments_lexer": "ipython3",
   "version": "3.13.2"
  }
 },
 "nbformat": 4,
 "nbformat_minor": 5
}
